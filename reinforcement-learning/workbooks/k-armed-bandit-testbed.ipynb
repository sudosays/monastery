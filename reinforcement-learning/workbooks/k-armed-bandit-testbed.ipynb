{
 "cells": [
  {
   "cell_type": "markdown",
   "metadata": {},
   "source": [
    "# The k-armed bandit testbed#\n",
    "\n",
    "In this workbook, we setup and use a testbed for the $k$-armed bandit problem where $k=10$.\n",
    "\n",
    "The $k$-armed bandit problem is defined as a number of $k$ actions that each yield some reward with mean $q_*(a)$ and unit variance. Given a limited number of timesteps in which to select an action and receive a reward, how can an agent quickly find and exploit the most rewarding actions?\n",
    "\n",
    "In this case, we will specifically be looking at the effect that $\\epsilon$ has when employing an $\\epsilon$-greedy policy for both a stationary $k$-armed bandit problem as well as a nonstationary one where the values of $q_*(a)$ make small steps in a random direction after every time step."
   ]
  },
  {
   "cell_type": "code",
   "execution_count": 1,
   "metadata": {},
   "outputs": [],
   "source": [
    "import numpy as np\n",
    "from random import normalvariate\n",
    "from random import choice\n",
    "from random import random\n",
    "from random import randint\n",
    "from matplotlib import pyplot as plt"
   ]
  },
  {
   "cell_type": "markdown",
   "metadata": {},
   "source": [
    "To set up our k-armed bandit problem where $k=10$ we draw 10 values from the normal distribution to represent the true values ($q_*(a)$) of each of our bandits"
   ]
  },
  {
   "cell_type": "code",
   "execution_count": 2,
   "metadata": {},
   "outputs": [],
   "source": [
    "class bandit_problem:\n",
    "    \n",
    "    def __init__(self, k):\n",
    "        self.k = k\n",
    "        self.q_a = np.random.standard_normal(self.k)\n",
    "    \n",
    "    def get_reward(self, action):\n",
    "        return normalvariate(self.q_a[action], 1)\n",
    "    \n",
    "    def reset(self):\n",
    "        self.q_a = np.random.standard_normal(self.k)"
   ]
  },
  {
   "cell_type": "markdown",
   "metadata": {},
   "source": [
    "Then, in order to calculate the reward for selecting an action (in this case $a=0$) we sample from the normal distribution again, but with mean $q_*(a)$ and unit variance."
   ]
  },
  {
   "cell_type": "markdown",
   "metadata": {},
   "source": [
    "Now for our agent that will be choosing and triggering the actions in order to obtain the reward. Essentially, we would like it to be greedy but with the catch that there is a probability of $\\epsilon$ to choose an action randomly it goes on to look something like this:"
   ]
  },
  {
   "cell_type": "code",
   "execution_count": 3,
   "metadata": {},
   "outputs": [],
   "source": [
    "class bandit_agent:\n",
    "   \n",
    "    def __init__(self, epsilon, k):\n",
    "        self.Q_a = np.zeros(k)\n",
    "        self.N_a = np.zeros(k)\n",
    "        self.epsilon = epsilon\n",
    "        self.k = k\n",
    "    \n",
    "    def choose_action(self):\n",
    "        if (random() < self.epsilon):\n",
    "            action = randint(0,self.k-1)\n",
    "        else:\n",
    "            max_actions = np.where(self.Q_a == np.amax(self.Q_a))\n",
    "            action = choice(max_actions[0])\n",
    "        self.N_a[action] += 1\n",
    "        return action\n",
    "    \n",
    "    def update(self, action, reward):\n",
    "        self.Q_a[action] += (reward - self.Q_a[action])/self.N_a[action]\n",
    "    \n",
    "    def reset(self):\n",
    "        self.Q_a = np.zeros(k)\n",
    "        self.N_a = np.zeros(k)"
   ]
  },
  {
   "cell_type": "markdown",
   "metadata": {},
   "source": [
    "In this agent's `update` method we use the _sample-average_ method to calculate the action-values incrementally. The sample-average method works by taking the prior action-value $Q(A_{t-1})$ and updating it with the latest reward recieved $R_t$ for choosing the current action $A_t$ discounted by the number of times that the current action has been selected in the past $N(A_t)$. \n",
    "\n",
    "The idea is to update the average reward recieved each time we selected a specific average, hence sample-average. Which brings us to the following equation:\n",
    "\n",
    "$$Q_{t+1}(A) = Q_t + \\frac{1}{N}[R_t(A_t) - Q_t(A_t)]$$"
   ]
  },
  {
   "cell_type": "code",
   "execution_count": 4,
   "metadata": {},
   "outputs": [],
   "source": [
    "def run_simulation(num_steps, num_runs, k, epsilon):\n",
    "\n",
    "    rewards = np.zeros((num_runs, num_steps))\n",
    "\n",
    "    problem = bandit_problem(k)\n",
    "    agent = bandit_agent(epsilon, k)\n",
    "\n",
    "    for r in range(num_runs):\n",
    "    \n",
    "        agent.reset()\n",
    "    \n",
    "        for t in range(num_steps):\n",
    "            action = agent.choose_action()\n",
    "            reward = problem.get_reward(action)\n",
    "            rewards[r,t] = reward\n",
    "            agent.update(action, reward)\n",
    "    \n",
    "    return rewards"
   ]
  },
  {
   "cell_type": "code",
   "execution_count": 23,
   "metadata": {},
   "outputs": [],
   "source": [
    "num_steps = 1000\n",
    "num_runs = 2000\n",
    "k = 10"
   ]
  },
  {
   "cell_type": "code",
   "execution_count": 54,
   "metadata": {},
   "outputs": [],
   "source": [
    "e0_rewards = run_simulation(num_steps, num_runs, k, 0)\n",
    "e01_rewards = run_simulation(num_steps, num_runs, k, 0.1)\n",
    "e001_rewards = run_simulation(num_steps, num_runs, k, 0.01)"
   ]
  },
  {
   "cell_type": "code",
   "execution_count": 55,
   "metadata": {},
   "outputs": [],
   "source": [
    "e0_avg_rewards = np.mean(e0_rewards, axis = 0)\n",
    "e01_avg_rewards = np.mean(e01_rewards, axis = 0)\n",
    "e001_avg_rewards = np.mean(e001_rewards, axis = 0)"
   ]
  },
  {
   "cell_type": "code",
   "execution_count": 57,
   "metadata": {},
   "outputs": [
    {
     "data": {
      "image/png": "[encoded data removed]",
      "text/plain": [
       "<Figure size 432x288 with 1 Axes>"
      ]
     },
     "metadata": {
      "needs_background": "light"
     },
     "output_type": "display_data"
    }
   ],
   "source": [
    "x = np.arange(0, num_steps, 1)\n",
    "\n",
    "plt.rc('text', usetex=True)\n",
    "plt.rc('font', family='serif')\n",
    "\n",
    "plt.plot(x, e0_avg_rewards, label='e0')\n",
    "plt.plot(x, e01_avg_rewards, label='e0.1')\n",
    "plt.plot(x, e001_avg_rewards, label='e0.01')\n",
    "#plt.xlabel(r'\\textbf{Timestep}', fontsize=11)\n",
    "#plt.ylabel(r'\\textbf{Average reward}')\n",
    "plt.legend()\n",
    "plt.savefig(\"initial-problem-4.svg\", format=\"svg\")\n",
    "plt.show()"
   ]
  },
  {
   "cell_type": "markdown",
   "metadata": {},
   "source": [
    "## Non-stationary problems ##\n",
    "\n",
    "Now we look at a version of the k-armed bandit that is non-stationary meaning that at each time step we will be adding a normally distributed increment with mean 0 and standard deviation 0.01 to the values of $q_*(a)$."
   ]
  },
  {
   "cell_type": "code",
   "execution_count": 58,
   "metadata": {},
   "outputs": [],
   "source": [
    "class nonstationary_bandit_problem:\n",
    "    \n",
    "    def __init__(self, k):\n",
    "        self.k = k\n",
    "        self.q_a = np.random.standard_normal(self.k)\n",
    "    \n",
    "    def get_reward(self, action):\n",
    "        return normalvariate(self.q_a[action], 1)\n",
    "    \n",
    "    def reset(self):\n",
    "        self.q_a = np.random.standard_normal(self.k)\n",
    "    \n",
    "    def update(self):\n",
    "        for i in range(self.k):\n",
    "            self.q_a[i] += normalvariate(0, 0.01)"
   ]
  },
  {
   "cell_type": "code",
   "execution_count": 59,
   "metadata": {},
   "outputs": [],
   "source": [
    "def run_nonstationary_simulation(num_steps, num_runs, k, epsilon):\n",
    "\n",
    "    rewards = np.zeros((num_runs, num_steps))\n",
    "\n",
    "    problem = nonstationary_bandit_problem(k)\n",
    "    agent = bandit_agent(epsilon, k)\n",
    "\n",
    "    for r in range(num_runs):\n",
    "    \n",
    "        agent.reset()\n",
    "    \n",
    "        for t in range(num_steps):\n",
    "            action = agent.choose_action()\n",
    "            reward = problem.get_reward(action)\n",
    "            rewards[r,t] = reward\n",
    "            agent.update(action, reward)\n",
    "            problem.update()\n",
    "    \n",
    "    return rewards"
   ]
  },
  {
   "cell_type": "code",
   "execution_count": 63,
   "metadata": {},
   "outputs": [],
   "source": [
    "num_steps = 10000\n",
    "num_runs = 2000\n",
    "k = 10\n",
    "\n",
    "e0_rewards = run_nonstationary_simulation(num_steps, num_runs, k, 0)\n",
    "e01_rewards = run_nonstationary_simulation(num_steps, num_runs, k, 0.1)\n",
    "e001_rewards = run_nonstationary_simulation(num_steps, num_runs, k, 0.01)\n",
    "\n",
    "e0_avg_rewards = np.mean(e0_rewards, axis = 0)\n",
    "e01_avg_rewards = np.mean(e01_rewards, axis = 0)\n",
    "e001_avg_rewards = np.mean(e001_rewards, axis = 0)"
   ]
  },
  {
   "cell_type": "code",
   "execution_count": 66,
   "metadata": {},
   "outputs": [
    {
     "data": {
      "image/png": "[encoded data removed]",
      "text/plain": [
       "<Figure size 432x288 with 1 Axes>"
      ]
     },
     "metadata": {
      "needs_background": "light"
     },
     "output_type": "display_data"
    }
   ],
   "source": [
    "x = np.arange(0, num_steps, 1)\n",
    "\n",
    "plt.plot(x, e0_avg_rewards, label='e0')\n",
    "plt.plot(x, e01_avg_rewards, label='e0.1')\n",
    "plt.plot(x, e001_avg_rewards, label='e0.01')\n",
    "plt.xlabel(r'\\textbf{Timestep}', fontsize=11)\n",
    "plt.ylabel(r'\\textbf{Average reward}')\n",
    "plt.legend()\n",
    "plt.savefig(\"result-nonstat-t10k.svg\", format=\"svg\")\n"
   ]
  },
  {
   "cell_type": "markdown",
   "metadata": {},
   "source": [
    "### Using a fixed step-size parameter ###\n",
    "\n",
    "In the sample-average method discussed above, the step-size parameter (denoted as $\\alpha$) is $\\frac{1}{n}$ where $n$ is the number of times that specific action has been selected in the past. \n",
    "\n",
    "Using $\\frac{1}{n}$ as the step-size parameter means that as the action is selected more and more over time, the update to the action-value (the term $R - Q_t$) is discounted more strongly for future rewards than past ones.\n",
    "\n",
    "This can be seen that by the Law of Large numbers as the number of times a specific action is chosen ($n$) tends to infinity it will eventually discount the updates entirely and stop updating the action-values:\n",
    "$$\\lim_{n\\to\\infty}\\frac{1}{n} = 0$$\n",
    "\n",
    "This is an example of convergence for a RL algorithm. Given enough time, the algorithm will eventually become fixed when it has calculated the optimal action-values. In the case, of the stationary problem above, this is indeed what we want since we would like the agent to eventually exploit the most valuable action it has found after exploring other options.\n",
    "\n",
    "However, when the problem is non-stationary, the optimal action-value becomes a moving target and convergence is no longer that beneficial. If the agent becomes fixed over time to exploit a given action greedily, it becomes very difficult to change the action-values if the optimal action changes since the longer the agent has been learning, the smaller the updates are to the action-values (especially of the most exploited action).\n",
    "\n",
    "In this case it might be beneficial to use a fixed step-size parameter such as $\\alpha = 0.1$ which means that future reward updates are equally as important as past reward updates."
   ]
  },
  {
   "cell_type": "code",
   "execution_count": 6,
   "metadata": {},
   "outputs": [],
   "source": [
    "class nonstationary_bandit_agent:\n",
    "   \n",
    "    def __init__(self, epsilon, k, a):\n",
    "        self.Q_a = np.zeros(k)\n",
    "        self.epsilon = epsilon\n",
    "        self.k = k\n",
    "        self.a = a\n",
    "    \n",
    "    def choose_action(self):\n",
    "        if (random() < self.epsilon):\n",
    "            action = randint(0,self.k-1)\n",
    "        else:\n",
    "            max_actions = np.where(self.Q_a == np.amax(self.Q_a))\n",
    "            action = choice(max_actions[0])\n",
    "        return action\n",
    "    \n",
    "    def update(self, action, reward):\n",
    "        self.Q_a[action] += (reward - self.Q_a[action])/self.a\n",
    "    \n",
    "    def reset(self):\n",
    "        self.Q_a = np.zeros(k)\n",
    "        self.N_a = np.zeros(k)"
   ]
  },
  {
   "cell_type": "code",
   "execution_count": 4,
   "metadata": {},
   "outputs": [],
   "source": [
    "def run_nonstationary_simulation(num_steps, num_runs, k, epsilon, a):\n",
    "\n",
    "    rewards = np.zeros((num_runs, num_steps))\n",
    "\n",
    "    problem = nonstationary_bandit_problem(k)\n",
    "    agent = nonstationary_bandit_agent(epsilon, k, a)\n",
    "\n",
    "    for r in range(num_runs):\n",
    "    \n",
    "        agent.reset()\n",
    "    \n",
    "        for t in range(num_steps):\n",
    "            action = agent.choose_action()\n",
    "            reward = problem.get_reward(action)\n",
    "            rewards[r,t] = reward\n",
    "            agent.update(action, reward)\n",
    "            problem.update()\n",
    "    \n",
    "    return rewards"
   ]
  },
  {
   "cell_type": "code",
   "execution_count": 5,
   "metadata": {},
   "outputs": [
    {
     "name": "stderr",
     "output_type": "stream",
     "text": [
      "/home/julius/monastery/reinforcement-learning/workbooks/venv/lib/python3.7/site-packages/ipykernel_launcher.py:18: RuntimeWarning: overflow encountered in double_scalars\n",
      "/home/julius/monastery/reinforcement-learning/workbooks/venv/lib/python3.7/site-packages/ipykernel_launcher.py:18: RuntimeWarning: invalid value encountered in double_scalars\n"
     ]
    },
    {
     "ename": "IndexError",
     "evalue": "Cannot choose from an empty sequence",
     "output_type": "error",
     "traceback": [
      "\u001b[0;31m---------------------------------------------------------------------------\u001b[0m",
      "\u001b[0;31mIndexError\u001b[0m                                Traceback (most recent call last)",
      "\u001b[0;32m<ipython-input-5-1e10fa1a4a70>\u001b[0m in \u001b[0;36m<module>\u001b[0;34m\u001b[0m\n\u001b[1;32m      4\u001b[0m \u001b[0ma\u001b[0m \u001b[0;34m=\u001b[0m \u001b[0;36m0.1\u001b[0m\u001b[0;34m\u001b[0m\u001b[0;34m\u001b[0m\u001b[0m\n\u001b[1;32m      5\u001b[0m \u001b[0;34m\u001b[0m\u001b[0m\n\u001b[0;32m----> 6\u001b[0;31m \u001b[0me0_rewards\u001b[0m \u001b[0;34m=\u001b[0m \u001b[0mrun_nonstationary_simulation\u001b[0m\u001b[0;34m(\u001b[0m\u001b[0mnum_steps\u001b[0m\u001b[0;34m,\u001b[0m \u001b[0mnum_runs\u001b[0m\u001b[0;34m,\u001b[0m \u001b[0mk\u001b[0m\u001b[0;34m,\u001b[0m \u001b[0;36m0\u001b[0m\u001b[0;34m,\u001b[0m \u001b[0ma\u001b[0m\u001b[0;34m)\u001b[0m\u001b[0;34m\u001b[0m\u001b[0;34m\u001b[0m\u001b[0m\n\u001b[0m\u001b[1;32m      7\u001b[0m \u001b[0me01_rewards\u001b[0m \u001b[0;34m=\u001b[0m \u001b[0mrun_nonstationary_simulation\u001b[0m\u001b[0;34m(\u001b[0m\u001b[0mnum_steps\u001b[0m\u001b[0;34m,\u001b[0m \u001b[0mnum_runs\u001b[0m\u001b[0;34m,\u001b[0m \u001b[0mk\u001b[0m\u001b[0;34m,\u001b[0m \u001b[0;36m0.1\u001b[0m\u001b[0;34m,\u001b[0m \u001b[0ma\u001b[0m\u001b[0;34m)\u001b[0m\u001b[0;34m\u001b[0m\u001b[0;34m\u001b[0m\u001b[0m\n\u001b[1;32m      8\u001b[0m \u001b[0me001_rewards\u001b[0m \u001b[0;34m=\u001b[0m \u001b[0mrun_nonstationary_simulation\u001b[0m\u001b[0;34m(\u001b[0m\u001b[0mnum_steps\u001b[0m\u001b[0;34m,\u001b[0m \u001b[0mnum_runs\u001b[0m\u001b[0;34m,\u001b[0m \u001b[0mk\u001b[0m\u001b[0;34m,\u001b[0m \u001b[0;36m0.01\u001b[0m\u001b[0;34m,\u001b[0m \u001b[0ma\u001b[0m\u001b[0;34m)\u001b[0m\u001b[0;34m\u001b[0m\u001b[0;34m\u001b[0m\u001b[0m\n",
      "\u001b[0;32m<ipython-input-4-0dd28ea83c3b>\u001b[0m in \u001b[0;36mrun_nonstationary_simulation\u001b[0;34m(num_steps, num_runs, k, epsilon, a)\u001b[0m\n\u001b[1;32m     11\u001b[0m \u001b[0;34m\u001b[0m\u001b[0m\n\u001b[1;32m     12\u001b[0m         \u001b[0;32mfor\u001b[0m \u001b[0mt\u001b[0m \u001b[0;32min\u001b[0m \u001b[0mrange\u001b[0m\u001b[0;34m(\u001b[0m\u001b[0mnum_steps\u001b[0m\u001b[0;34m)\u001b[0m\u001b[0;34m:\u001b[0m\u001b[0;34m\u001b[0m\u001b[0;34m\u001b[0m\u001b[0m\n\u001b[0;32m---> 13\u001b[0;31m             \u001b[0maction\u001b[0m \u001b[0;34m=\u001b[0m \u001b[0magent\u001b[0m\u001b[0;34m.\u001b[0m\u001b[0mchoose_action\u001b[0m\u001b[0;34m(\u001b[0m\u001b[0;34m)\u001b[0m\u001b[0;34m\u001b[0m\u001b[0;34m\u001b[0m\u001b[0m\n\u001b[0m\u001b[1;32m     14\u001b[0m             \u001b[0mreward\u001b[0m \u001b[0;34m=\u001b[0m \u001b[0mproblem\u001b[0m\u001b[0;34m.\u001b[0m\u001b[0mget_reward\u001b[0m\u001b[0;34m(\u001b[0m\u001b[0maction\u001b[0m\u001b[0;34m)\u001b[0m\u001b[0;34m\u001b[0m\u001b[0;34m\u001b[0m\u001b[0m\n\u001b[1;32m     15\u001b[0m             \u001b[0mrewards\u001b[0m\u001b[0;34m[\u001b[0m\u001b[0mr\u001b[0m\u001b[0;34m,\u001b[0m\u001b[0mt\u001b[0m\u001b[0;34m]\u001b[0m \u001b[0;34m=\u001b[0m \u001b[0mreward\u001b[0m\u001b[0;34m\u001b[0m\u001b[0;34m\u001b[0m\u001b[0m\n",
      "\u001b[0;32m<ipython-input-3-00fd5c8a98f6>\u001b[0m in \u001b[0;36mchoose_action\u001b[0;34m(self)\u001b[0m\n\u001b[1;32m     12\u001b[0m         \u001b[0;32melse\u001b[0m\u001b[0;34m:\u001b[0m\u001b[0;34m\u001b[0m\u001b[0;34m\u001b[0m\u001b[0m\n\u001b[1;32m     13\u001b[0m             \u001b[0mmax_actions\u001b[0m \u001b[0;34m=\u001b[0m \u001b[0mnp\u001b[0m\u001b[0;34m.\u001b[0m\u001b[0mwhere\u001b[0m\u001b[0;34m(\u001b[0m\u001b[0mself\u001b[0m\u001b[0;34m.\u001b[0m\u001b[0mQ_a\u001b[0m \u001b[0;34m==\u001b[0m \u001b[0mnp\u001b[0m\u001b[0;34m.\u001b[0m\u001b[0mamax\u001b[0m\u001b[0;34m(\u001b[0m\u001b[0mself\u001b[0m\u001b[0;34m.\u001b[0m\u001b[0mQ_a\u001b[0m\u001b[0;34m)\u001b[0m\u001b[0;34m)\u001b[0m\u001b[0;34m\u001b[0m\u001b[0;34m\u001b[0m\u001b[0m\n\u001b[0;32m---> 14\u001b[0;31m             \u001b[0maction\u001b[0m \u001b[0;34m=\u001b[0m \u001b[0mchoice\u001b[0m\u001b[0;34m(\u001b[0m\u001b[0mmax_actions\u001b[0m\u001b[0;34m[\u001b[0m\u001b[0;36m0\u001b[0m\u001b[0;34m]\u001b[0m\u001b[0;34m)\u001b[0m\u001b[0;34m\u001b[0m\u001b[0;34m\u001b[0m\u001b[0m\n\u001b[0m\u001b[1;32m     15\u001b[0m         \u001b[0;32mreturn\u001b[0m \u001b[0maction\u001b[0m\u001b[0;34m\u001b[0m\u001b[0;34m\u001b[0m\u001b[0m\n\u001b[1;32m     16\u001b[0m \u001b[0;34m\u001b[0m\u001b[0m\n",
      "\u001b[0;32m~/monastery/reinforcement-learning/workbooks/venv/lib/python3.7/random.py\u001b[0m in \u001b[0;36mchoice\u001b[0;34m(self, seq)\u001b[0m\n\u001b[1;32m    259\u001b[0m             \u001b[0mi\u001b[0m \u001b[0;34m=\u001b[0m \u001b[0mself\u001b[0m\u001b[0;34m.\u001b[0m\u001b[0m_randbelow\u001b[0m\u001b[0;34m(\u001b[0m\u001b[0mlen\u001b[0m\u001b[0;34m(\u001b[0m\u001b[0mseq\u001b[0m\u001b[0;34m)\u001b[0m\u001b[0;34m)\u001b[0m\u001b[0;34m\u001b[0m\u001b[0;34m\u001b[0m\u001b[0m\n\u001b[1;32m    260\u001b[0m         \u001b[0;32mexcept\u001b[0m \u001b[0mValueError\u001b[0m\u001b[0;34m:\u001b[0m\u001b[0;34m\u001b[0m\u001b[0;34m\u001b[0m\u001b[0m\n\u001b[0;32m--> 261\u001b[0;31m             \u001b[0;32mraise\u001b[0m \u001b[0mIndexError\u001b[0m\u001b[0;34m(\u001b[0m\u001b[0;34m'Cannot choose from an empty sequence'\u001b[0m\u001b[0;34m)\u001b[0m \u001b[0;32mfrom\u001b[0m \u001b[0;32mNone\u001b[0m\u001b[0;34m\u001b[0m\u001b[0;34m\u001b[0m\u001b[0m\n\u001b[0m\u001b[1;32m    262\u001b[0m         \u001b[0;32mreturn\u001b[0m \u001b[0mseq\u001b[0m\u001b[0;34m[\u001b[0m\u001b[0mi\u001b[0m\u001b[0;34m]\u001b[0m\u001b[0;34m\u001b[0m\u001b[0;34m\u001b[0m\u001b[0m\n\u001b[1;32m    263\u001b[0m \u001b[0;34m\u001b[0m\u001b[0m\n",
      "\u001b[0;31mIndexError\u001b[0m: Cannot choose from an empty sequence"
     ]
    }
   ],
   "source": [
    "num_steps = 10000\n",
    "num_runs = 2000\n",
    "k = 10\n",
    "a = 0.1\n",
    "\n",
    "e0_rewards = run_nonstationary_simulation(num_steps, num_runs, k, 0, a)\n",
    "e01_rewards = run_nonstationary_simulation(num_steps, num_runs, k, 0.1, a)\n",
    "e001_rewards = run_nonstationary_simulation(num_steps, num_runs, k, 0.01, a)\n",
    "\n",
    "e0_avg_rewards = np.mean(e0_rewards, axis = 0)\n",
    "e01_avg_rewards = np.mean(e01_rewards, axis = 0)\n",
    "e001_avg_rewards = np.mean(e001_rewards, axis = 0)\n",
    "\n",
    "x = np.arange(0, num_steps, 1)\n",
    "\n",
    "plt.plot(x, e0_avg_rewards, label='e0')\n",
    "plt.plot(x, e01_avg_rewards, label='e0.1')\n",
    "plt.plot(x, e001_avg_rewards, label='e0.01')\n",
    "plt.legend()"
   ]
  },
  {
   "cell_type": "code",
   "execution_count": null,
   "metadata": {},
   "outputs": [],
   "source": []
  }
 ],
 "metadata": {
  "kernelspec": {
   "display_name": "Python 3",
   "language": "python",
   "name": "python3"
  },
  "language_info": {
   "codemirror_mode": {
    "name": "ipython",
    "version": 3
   },
   "file_extension": ".py",
   "mimetype": "text/x-python",
   "name": "python",
   "nbconvert_exporter": "python",
   "pygments_lexer": "ipython3",
   "version": "3.7.3"
  }
 },
 "nbformat": 4,
 "nbformat_minor": 2
}
